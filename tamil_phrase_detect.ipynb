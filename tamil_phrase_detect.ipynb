{
 "cells": [
  {
   "cell_type": "markdown",
   "metadata": {},
   "source": [
    "## Phrase Detection\n",
    "\n",
    "The following program detects phrases in **Tamil** language. \n",
    "\n",
    "#### Instructions\n",
    "* Run the **imports** cell\n",
    "* Run the **Calculate Tri-gram count and Bi-gram count from data** cell\n",
    "* Run both the **input text** and **output_text** cell.\n",
    "* Enter any **Tamil** Language text in the input box\n",
    "* The output will be visible in the output box"
   ]
  },
  {
   "cell_type": "markdown",
   "metadata": {},
   "source": [
    "## Imports"
   ]
  },
  {
   "cell_type": "code",
   "execution_count": null,
   "metadata": {},
   "outputs": [],
   "source": [
    "import re,nltk,string,collections\n",
    "from nltk.util import ngrams\n",
    "import os\n",
    "import ipywidgets\n",
    "from ipywidgets import widgets, Layout"
   ]
  },
  {
   "cell_type": "markdown",
   "metadata": {},
   "source": [
    "### Calculating Tri-gram count and Bi-gram count from corpus"
   ]
  },
  {
   "cell_type": "code",
   "execution_count": null,
   "metadata": {},
   "outputs": [],
   "source": [
    "tamilTgr = collections.Counter()\n",
    "for files in os.listdir('./tamil_data/'):\n",
    "    file = './tamil_data/'+files\n",
    "    #print(file)\n",
    "    with open(file,'r',encoding='utf-8') as f:\n",
    "        text = f.read()\n",
    "        text = re.sub('[a-zA-Z0-9_\\\\\\\\]','',text)\n",
    "        punctuationNoPeriod = \"[\" + re.sub(\"-\\.\",\"\",string.punctuation) + \"]\"\n",
    "        text = re.sub(punctuationNoPeriod, \"\", text)\n",
    "        text = re.sub('\\.',' . ',text)\n",
    "        tokenized = text.split()\n",
    "        tam_gram = filter(lambda x: x[0]!='.' and x[1]!='.' and x[2]!='.',ngrams(tokenized,3))\n",
    "        tamilTgr.update(collections.Counter(tam_gram))\n",
    "        \n",
    "tamilBgr = collections.Counter()\n",
    "for files in os.listdir('./tamil_data/'):\n",
    "    file = './tamil_data/'+files\n",
    "    #print(file)\n",
    "    with open(file,'r',encoding='utf-8') as f:\n",
    "        text = f.read()\n",
    "        text = re.sub('[a-zA-Z0-9_\\\\\\\\]','',text)\n",
    "        punctuationNoPeriod = \"[\" + re.sub(\"-\\.\",\"\",string.punctuation) + \"]\"\n",
    "        text = re.sub(punctuationNoPeriod, \"\", text)\n",
    "        text = re.sub('\\.',' . ',text)\n",
    "        tokenized = text.split()\n",
    "        tam_gram = filter(lambda x: x[0]!='.' and x[1]!='.',ngrams(tokenized,2))\n",
    "        tamilBgr.update(collections.Counter(tam_gram))\n",
    "\n",
    "def detect_phrase(st):\n",
    "    tk=st.value.split()\n",
    "    tk_gram = ngrams(tk,3)\n",
    "    i=0\n",
    "    output = []\n",
    "    gramms = list(tk_gram)\n",
    "    while i<len(gramms):\n",
    "        tup = gramms[i]\n",
    "        if tup in tamilTgr:\n",
    "            #print('{ ',tup[0],tup[1],tup[2],'}',end=\" \")\n",
    "            output.append('{')\n",
    "            output.append(tup[0])\n",
    "            output.append(tup[1])\n",
    "            output.append(tup[2])\n",
    "            output.append('}')\n",
    "            i+=3\n",
    "            if i>=len(gramms) and i<len(tk):\n",
    "                while i<len(tk):\n",
    "                    output.append(tk[i])\n",
    "                    i+=1\n",
    "            continue\n",
    "        else:\n",
    "            if(i==(len(gramms)-1)):\n",
    "                    output.append(tup[0])\n",
    "                    output.append(tup[1])\n",
    "                    output.append(tup[2])\n",
    "            else:\n",
    "                output.append(tup[0])\n",
    "        i+=1\n",
    "    output_text.value =  ' '.join(output)\n",
    "\n",
    "input_text = widgets.Text(layout=Layout(width='50%', height='10%'))\n",
    "output_text = widgets.Text(layout=Layout(width='50%', height='10%'))\n",
    "input_text.on_submit(detect_phrase)\n"
   ]
  },
  {
   "cell_type": "markdown",
   "metadata": {},
   "source": [
    "## Input Text\n",
    "\n",
    "Before running the two cells please run the **Imports cell** and **Calculating Tri-gram count and Bi-gram count cell**"
   ]
  },
  {
   "cell_type": "markdown",
   "metadata": {},
   "source": [
    "Please enter any sentence from **Tamil** language in the text box"
   ]
  },
  {
   "cell_type": "code",
   "execution_count": null,
   "metadata": {},
   "outputs": [],
   "source": [
    "display(input_text)"
   ]
  },
  {
   "cell_type": "markdown",
   "metadata": {},
   "source": [
    "## Output Text"
   ]
  },
  {
   "cell_type": "code",
   "execution_count": null,
   "metadata": {},
   "outputs": [],
   "source": [
    "display(output_text)\n"
   ]
  }
 ],
 "metadata": {
  "kernelspec": {
   "display_name": "Python 3",
   "language": "python",
   "name": "python3"
  },
  "language_info": {
   "codemirror_mode": {
    "name": "ipython",
    "version": 3
   },
   "file_extension": ".py",
   "mimetype": "text/x-python",
   "name": "python",
   "nbconvert_exporter": "python",
   "pygments_lexer": "ipython3",
   "version": "3.7.3"
  }
 },
 "nbformat": 4,
 "nbformat_minor": 4
}
